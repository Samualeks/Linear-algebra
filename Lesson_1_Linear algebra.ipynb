{
 "cells": [
  {
   "cell_type": "markdown",
   "id": "203ea2da",
   "metadata": {},
   "source": [
    "Практическое задание\n",
    "\n",
    "\n",
    "__1.__ Исследуйте на линейную зависимость:\n",
    "\n",
    "$$f_{1}(x)=e^{x}, f_{2}(x)=1, f_{3}(x)=x+1, f_{4}(x)=x-e^{x}.$$"
   ]
  },
  {
   "cell_type": "markdown",
   "id": "af010b47",
   "metadata": {},
   "source": [
    "Решение"
   ]
  },
  {
   "cell_type": "markdown",
   "id": "5a321867",
   "metadata": {},
   "source": [
    "Заметим, что $f_{1}(x)=f_{2}(x)-f_{3}(x)-f_{4}(x)$, то есть вектор $f_{1}(x)$ — линейная комбинация векторов $f_{2}(x)$, $f_{3}(x)$, $f_{4}(x)$ из чего можно сделать вывод, что они линейно зависимы."
   ]
  },
  {
   "cell_type": "markdown",
   "id": "e27fba7d",
   "metadata": {},
   "source": [
    "__2.__ Исследуйте на линейную зависимость:\n",
    "$$f_{1}(x)=2, f_{2}(x)=x, f_{3}(x)=x^{2}, f_{4}(x)=(x+1)^{2}$$"
   ]
  },
  {
   "cell_type": "markdown",
   "id": "cd290e91",
   "metadata": {},
   "source": [
    "Решение"
   ]
  },
  {
   "cell_type": "markdown",
   "id": "c3b3b276",
   "metadata": {},
   "source": [
    "Заметим, что $f_{1}(x)=2f_{4}(x)-2f_{3}(x)-4f_{2}(x)$, то есть вектор $f_{1}(x)$ — линейная комбинация векторов $f_{2}(x)$, $f_{3}(x)$, $f_{4}(x)$ из чего можно сделать вывод, что они линейно зависимы."
   ]
  },
  {
   "cell_type": "markdown",
   "id": "207980f5",
   "metadata": {},
   "source": [
    "__3.__ Найдите координаты вектора $x = (2, 3, 5)\\in \\mathbb{R}^{3}$ в базисе $b_{1}=(0, 0, 10)$, $b_{2}=(2, 0, 0)$, $b_{3}=(0, 1, 0)$.\n"
   ]
  },
  {
   "cell_type": "markdown",
   "id": "dfcb2e65",
   "metadata": {},
   "source": [
    "Решение"
   ]
  },
  {
   "cell_type": "markdown",
   "id": "627a854a",
   "metadata": {},
   "source": [
    "Найдём координаты\n",
    "х1, х2, х3 вектора\n",
    "c в этом базисе.\n",
    "Пусть\n",
    "х1(0, 0, 10) +\n",
    "х2(2, 0, 0) +\n",
    "х3(0, 1, 0) = (2, 3, 5). \n",
    "\n",
    "0 + 2\n",
    "х2 +\n",
    "0 = 2,\n",
    "\n",
    "0 + 0 +\n",
    "х3 = 3,\n",
    "10\n",
    "х1 +\n",
    "0 + 0 = 5\n",
    "получим\n",
    "х1 = 0,5, х2 = 1, х3 = 3."
   ]
  },
  {
   "cell_type": "markdown",
   "id": "be68c648",
   "metadata": {},
   "source": [
    "__4.__ Найдите координаты вектора $3x^{2}-2x+2\\in\\mathbb{R}^{3}[x]$:\n",
    "\n",
    "а) в базисе $1$, $x$, $x^{2}$;\n",
    "\n",
    "б) в базисе $x^{2}$, $x-1$, $1$."
   ]
  },
  {
   "cell_type": "markdown",
   "id": "e1aa703a",
   "metadata": {},
   "source": [
    "__5.__ Установите, считается ли линейным подпространством:\n",
    "\n",
    "а) совокупность всех векторов трёхмерного пространства, у которых по крайней мере одна из первых двух координат равна нулю;\n",
    "    \n",
    "б) все векторы, считающиеся линейными комбинациями данных векторов $\\{u_{1}, u_{2} \\ldots, u_{n}\\}$."
   ]
  },
  {
   "cell_type": "markdown",
   "id": "14bb26ba",
   "metadata": {},
   "source": [
    "Решение"
   ]
  },
  {
   "cell_type": "markdown",
   "id": "d04b5b9f",
   "metadata": {},
   "source": [
    "а) нет"
   ]
  },
  {
   "cell_type": "markdown",
   "id": "043ca03f",
   "metadata": {},
   "source": [
    "б) да"
   ]
  },
  {
   "cell_type": "code",
   "execution_count": null,
   "id": "55e81498",
   "metadata": {},
   "outputs": [],
   "source": []
  }
 ],
 "metadata": {
  "kernelspec": {
   "display_name": "Python 3 (ipykernel)",
   "language": "python",
   "name": "python3"
  },
  "language_info": {
   "codemirror_mode": {
    "name": "ipython",
    "version": 3
   },
   "file_extension": ".py",
   "mimetype": "text/x-python",
   "name": "python",
   "nbconvert_exporter": "python",
   "pygments_lexer": "ipython3",
   "version": "3.9.12"
  }
 },
 "nbformat": 4,
 "nbformat_minor": 5
}
