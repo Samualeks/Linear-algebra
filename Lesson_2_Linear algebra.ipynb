{
 "cells": [
  {
   "cell_type": "markdown",
   "id": "cbb46694",
   "metadata": {},
   "source": [
    "Урок 2. Матрицы и матричные операции"
   ]
  },
  {
   "cell_type": "markdown",
   "id": "fdaa4e5e",
   "metadata": {},
   "source": [
    "Практическое задание\n",
    "Все задания рекомендуется делать вручную, проверяя полученные результаты через NumPy.\n",
    "\n",
    "1. Установите, какие произведения матриц 𝐴𝐵 и 𝐵𝐴 определены, и найдите размерности полученных матриц:\n",
    "\n",
    "а) 𝐴 — матрица 4×2, 𝐵 — матрица 4×2;\n",
    "\n",
    "б) 𝐴 — матрица 2×5, 𝐵 — матрица 5×3;\n",
    "\n",
    "в) 𝐴 — матрица 8×3, 𝐵 — матрица 3×8;\n",
    "\n",
    "г) 𝐴 — квадратная матрица 4×4, 𝐵 — квадратная матрица 4×4."
   ]
  },
  {
   "cell_type": "markdown",
   "id": "d1384bd1",
   "metadata": {},
   "source": [
    "Решение"
   ]
  },
  {
   "cell_type": "markdown",
   "id": "da007bb7",
   "metadata": {},
   "source": [
    "а) умножать нельзя\n",
    "б) умножать можно, 2×3\n",
    "в) умножать можно, 8×8\n",
    "б) умножать можно, 4×4"
   ]
  },
  {
   "cell_type": "markdown",
   "id": "d49fab72",
   "metadata": {},
   "source": [
    "__2.__ Найдите сумму и произведение матриц $A=\\begin{pmatrix}\n",
    "1 & -2\\\\ \n",
    "3 & 0\n",
    "\\end{pmatrix}$ и $B=\\begin{pmatrix}\n",
    "4 & -1\\\\ \n",
    "0 & 5\n",
    "\\end{pmatrix}.$\n"
   ]
  },
  {
   "cell_type": "code",
   "execution_count": 19,
   "id": "a44f5810",
   "metadata": {},
   "outputs": [],
   "source": [
    "import numpy as np"
   ]
  },
  {
   "cell_type": "code",
   "execution_count": 20,
   "id": "f309f3eb",
   "metadata": {},
   "outputs": [
    {
     "name": "stdout",
     "output_type": "stream",
     "text": [
      "Матрица A\n",
      "[[ 1 -2]\n",
      " [ 3  0]]\n",
      "\n",
      "Матрица B\n",
      "[[ 4 -1]\n",
      " [ 0  5]]\n",
      "\n",
      "Матрица С = A + B\n",
      "[[ 5 -3]\n",
      " [ 3  5]]\n"
     ]
    }
   ],
   "source": [
    "a = np.array([[1, -2], [3, 0]])\n",
    "b = np.array([[4, -1], [0, 5]])\n",
    "\n",
    "print(f'Матрица A\\n{a}\\n')\n",
    "print(f'Матрица B\\n{b}\\n')\n",
    "print(f'Матрица С = A + B\\n{a + b}')"
   ]
  },
  {
   "cell_type": "code",
   "execution_count": 21,
   "id": "969f6fb9",
   "metadata": {},
   "outputs": [
    {
     "name": "stdout",
     "output_type": "stream",
     "text": [
      "Матрица A\n",
      "[[ 1 -2]\n",
      " [ 3  0]]\n",
      "Матрица B\n",
      "[[ 4 -1]\n",
      " [ 0  5]]\n",
      "Матрица AB\n",
      "[[  4 -11]\n",
      " [ 12  -3]]\n"
     ]
    }
   ],
   "source": [
    "a = np.array([[1, -2], [3, 0]])\n",
    "b = np.array([[4, -1], [0, 5]])\n",
    "\n",
    "print(f'Матрица A\\n{a}')\n",
    "print(f'Матрица B\\n{b}')\n",
    "print(f'Матрица AB\\n{np.dot(a, b)}')"
   ]
  },
  {
   "cell_type": "markdown",
   "id": "e620475b",
   "metadata": {},
   "source": [
    "__3.__ Из закономерностей сложения и умножения матриц на число можно сделать вывод, что матрицы одного размера образуют линейное пространство. Вычислите линейную комбинацию $3A-2B+4C$ для матриц $A=\\begin{pmatrix}\n",
    "1 & 7\\\\ \n",
    "3 & -6\n",
    "\\end{pmatrix}$, $B=\\begin{pmatrix}\n",
    "0 & 5\\\\ \n",
    "2 & -1\n",
    "\\end{pmatrix}$, $C=\\begin{pmatrix}\n",
    "2 & -4\\\\ \n",
    "1 & 1\n",
    "\\end{pmatrix}.$"
   ]
  },
  {
   "cell_type": "code",
   "execution_count": 22,
   "id": "cea622b7",
   "metadata": {},
   "outputs": [
    {
     "name": "stdout",
     "output_type": "stream",
     "text": [
      "Матрица А\n",
      "[[ 1  7]\n",
      " [ 3 -6]]\n",
      "\n",
      "Матрица 3*А\n",
      "[[  3  21]\n",
      " [  9 -18]]\n"
     ]
    }
   ],
   "source": [
    "a = np.array([[1, 7], [3, -6]])\n",
    "k = 3\n",
    "\n",
    "print(f'Матрица А\\n{a}\\n')\n",
    "print(f'Матрица 3*А\\n{k*a}')"
   ]
  },
  {
   "cell_type": "code",
   "execution_count": 23,
   "id": "b67ac461",
   "metadata": {},
   "outputs": [
    {
     "name": "stdout",
     "output_type": "stream",
     "text": [
      "Матрица B\n",
      "[[ 0  5]\n",
      " [ 2 -1]]\n",
      "\n",
      "Матрица 2*B\n",
      "[[ 0 10]\n",
      " [ 4 -2]]\n"
     ]
    }
   ],
   "source": [
    "b = np.array([[0, 5], [2, -1]])\n",
    "k = 2\n",
    "\n",
    "print(f'Матрица B\\n{b}\\n')\n",
    "print(f'Матрица 2*B\\n{k*b}')"
   ]
  },
  {
   "cell_type": "code",
   "execution_count": 24,
   "id": "4dedf819",
   "metadata": {},
   "outputs": [
    {
     "name": "stdout",
     "output_type": "stream",
     "text": [
      "Матрица C\n",
      "[[ 2 -4]\n",
      " [ 1  1]]\n",
      "\n",
      "Матрица 4*C\n",
      "[[  8 -16]\n",
      " [  4   4]]\n"
     ]
    }
   ],
   "source": [
    "c = np.array([[2, -4], [1, 1]])\n",
    "k = 4\n",
    "\n",
    "print(f'Матрица C\\n{c}\\n')\n",
    "print(f'Матрица 4*C\\n{k*c}')"
   ]
  },
  {
   "cell_type": "code",
   "execution_count": 25,
   "id": "a1057658",
   "metadata": {},
   "outputs": [
    {
     "name": "stdout",
     "output_type": "stream",
     "text": [
      "Матрица 3A\n",
      "[[  3  21]\n",
      " [  9 -18]]\n",
      "\n",
      "Матрица 2B\n",
      "[[ 0 10]\n",
      " [ 4 -2]]\n",
      "\n",
      "Матрица 4C\n",
      "[[  8 -16]\n",
      " [  4   4]]\n",
      "\n",
      "Матрица D = 3A - 2B + 4C\n",
      "[[ 11  -5]\n",
      " [  9 -12]]\n"
     ]
    }
   ],
   "source": [
    "a = np.array([[3, 21], [9, -18]])\n",
    "b = np.array([[0, 10], [4, -2]])\n",
    "c = np.array([[8, -16], [4, 4]])\n",
    "\n",
    "print(f'Матрица 3A\\n{a}\\n')\n",
    "print(f'Матрица 2B\\n{b}\\n')\n",
    "print(f'Матрица 4C\\n{c}\\n')\n",
    "print(f'Матрица D = 3A - 2B + 4C\\n{a - b + c}')"
   ]
  },
  {
   "cell_type": "markdown",
   "id": "ac114460",
   "metadata": {},
   "source": [
    "__4.__ Дана матрица $A=\\begin{pmatrix}\n",
    "4 & 1\\\\ \n",
    "5 & -2\\\\ \n",
    "2 & 3\n",
    "\\end{pmatrix}$.\n",
    "Вычислите $AA^{T}$ и $A^{T}A$."
   ]
  },
  {
   "cell_type": "code",
   "execution_count": 26,
   "id": "7bc7c176",
   "metadata": {},
   "outputs": [
    {
     "name": "stdout",
     "output_type": "stream",
     "text": [
      "Матрица:\n",
      "[[ 4  1]\n",
      " [ 5 -2]\n",
      " [ 2  3]]\n",
      "Транспонированная матрица:\n",
      "[[ 4  5  2]\n",
      " [ 1 -2  3]]\n"
     ]
    }
   ],
   "source": [
    "a = np.array([[4, 1], [5, -2], [2, 3]])\n",
    "\n",
    "print(f'Матрица:\\n{a}')\n",
    "print(f'Транспонированная матрица:\\n{a.T}')"
   ]
  },
  {
   "cell_type": "code",
   "execution_count": 27,
   "id": "4de6eca9",
   "metadata": {},
   "outputs": [
    {
     "name": "stdout",
     "output_type": "stream",
     "text": [
      "Матрица A\n",
      "[[ 4  1]\n",
      " [ 5 -2]\n",
      " [ 2  3]]\n",
      "Матрица AТ\n",
      "[[ 4  5  2]\n",
      " [ 1 -2  3]]\n",
      "Матрица AAТ\n",
      "[[17 18 11]\n",
      " [18 29  4]\n",
      " [11  4 13]]\n"
     ]
    }
   ],
   "source": [
    "a = np.array([[4, 1], [5, -2], [2, 3]])\n",
    "b = np.array([[4, 5, 2], [1, -2, 3]])\n",
    "\n",
    "print(f'Матрица A\\n{a}')\n",
    "print(f'Матрица AТ\\n{b}')\n",
    "print(f'Матрица AAТ\\n{np.dot(a, b)}')"
   ]
  },
  {
   "cell_type": "code",
   "execution_count": 28,
   "id": "2c3681b5",
   "metadata": {},
   "outputs": [
    {
     "name": "stdout",
     "output_type": "stream",
     "text": [
      "Матрица AТ\n",
      "[[ 4  5  2]\n",
      " [ 1 -2  3]]\n",
      "Матрица A\n",
      "[[ 4  1]\n",
      " [ 5 -2]\n",
      " [ 2  3]]\n",
      "Матрица AТА\n",
      "[[45  0]\n",
      " [ 0 14]]\n"
     ]
    }
   ],
   "source": [
    "a = np.array([[4, 5, 2], [1, -2, 3]])\n",
    "b = np.array([[4, 1], [5, -2], [2, 3]])\n",
    "\n",
    "print(f'Матрица AТ\\n{a}')\n",
    "print(f'Матрица A\\n{b}')\n",
    "print(f'Матрица AТА\\n{np.dot(a, b)}')"
   ]
  },
  {
   "cell_type": "markdown",
   "id": "f489ad1c",
   "metadata": {},
   "source": [
    "## Практическое задание\n"
   ]
  },
  {
   "cell_type": "markdown",
   "id": "85aab1b7",
   "metadata": {},
   "source": [
    "\n",
    "__1.__ Вычислите определитель:\n",
    "\n",
    "   a)\n",
    "\n",
    "$$\\begin{vmatrix}\n",
    "sinx & -cosx\\\\ \n",
    "cosx & sinx\n",
    "\\end{vmatrix};$$\n",
    "\n",
    "   б)\n",
    "    \n",
    "$$\\begin{vmatrix}\n",
    "4 & 2 & 3\\\\ \n",
    "0 & 5 & 1\\\\ \n",
    "0 & 0 & 9\n",
    "\\end{vmatrix};$$\n",
    "    \n",
    "   в)\n",
    "\n",
    "$$\\begin{vmatrix}\n",
    "1 & 2 & 3\\\\ \n",
    "4 & 5 & 6\\\\ \n",
    "7 & 8 & 9\n",
    "\\end{vmatrix}.$$"
   ]
  },
  {
   "cell_type": "code",
   "execution_count": 2,
   "id": "4d0060e5",
   "metadata": {},
   "outputs": [],
   "source": [
    "import numpy as np"
   ]
  },
  {
   "cell_type": "markdown",
   "id": "458ad99b",
   "metadata": {},
   "source": [
    "а) "
   ]
  },
  {
   "cell_type": "markdown",
   "id": "753178c1",
   "metadata": {},
   "source": [
    "sin(x^2) + cos(x^2) = 1"
   ]
  },
  {
   "cell_type": "markdown",
   "id": "b1685ae9",
   "metadata": {},
   "source": [
    "б)"
   ]
  },
  {
   "cell_type": "code",
   "execution_count": 34,
   "id": "34799d8c",
   "metadata": {},
   "outputs": [
    {
     "name": "stdout",
     "output_type": "stream",
     "text": [
      "Матрица:\n",
      "[[4 2 3]\n",
      " [0 5 1]\n",
      " [0 0 9]]\n",
      "Определитель:\n",
      "180\n"
     ]
    }
   ],
   "source": [
    "a = np.array([[4, 2, 3], [0, 5, 1], [0, 0, 9]])\n",
    "print(f'Матрица:\\n{a}')\n",
    "print(f'Определитель:\\n{np.linalg.det(a):.0f}')"
   ]
  },
  {
   "cell_type": "markdown",
   "id": "43e904aa",
   "metadata": {},
   "source": [
    "в)"
   ]
  },
  {
   "cell_type": "code",
   "execution_count": 35,
   "id": "74e75702",
   "metadata": {},
   "outputs": [
    {
     "name": "stdout",
     "output_type": "stream",
     "text": [
      "Матрица:\n",
      "[[1 2 3]\n",
      " [4 5 6]\n",
      " [7 8 9]]\n",
      "Определитель:\n",
      "-0\n"
     ]
    }
   ],
   "source": [
    "a = np.array([[1, 2, 3], [4, 5, 6], [7, 8, 9]])\n",
    "print(f'Матрица:\\n{a}')\n",
    "print(f'Определитель:\\n{np.linalg.det(a):.0f}')"
   ]
  },
  {
   "cell_type": "markdown",
   "id": "f8d32a54",
   "metadata": {},
   "source": [
    "__2.__ Определитель матрицы $A$ равен $4$. Найдите:\n",
    "\n",
    "   а) $det(A^{2})$;\n",
    "    \n",
    "   б) $det(A^{T})$;\n",
    "    \n",
    "   в) $det(2A)$.\n",
    "   \n"
   ]
  },
  {
   "cell_type": "markdown",
   "id": "1cab39b4",
   "metadata": {},
   "source": [
    "а) $det(A^{2})$ = 16"
   ]
  },
  {
   "cell_type": "markdown",
   "id": "ad16c5fe",
   "metadata": {},
   "source": [
    "б) $det(A^{T})$ = 4"
   ]
  },
  {
   "cell_type": "markdown",
   "id": "8572512e",
   "metadata": {},
   "source": [
    "в) $det(2A)$ = 8"
   ]
  },
  {
   "cell_type": "markdown",
   "id": "ac29dca5",
   "metadata": {},
   "source": [
    "__3.__  Докажите, что матрица:\n",
    "\n",
    "$$\\begin{pmatrix}\n",
    "-2 & 7 & -3\\\\ \n",
    "4 & -14 & 6\\\\ \n",
    "-3 & 7 & 13\n",
    "\\end{pmatrix}$$\n",
    "   \n",
    "вырожденная."
   ]
  },
  {
   "cell_type": "code",
   "execution_count": 3,
   "id": "4ee70de8",
   "metadata": {},
   "outputs": [
    {
     "name": "stdout",
     "output_type": "stream",
     "text": [
      "Матрица:\n",
      "[[ -2   7  -3]\n",
      " [  4 -14   6]\n",
      " [ -3   7  13]]\n",
      "Определитель:\n",
      "0\n"
     ]
    }
   ],
   "source": [
    "b = np.array([[-2, 7, -3], [4, -14, 6], [-3, 7, 13]])\n",
    "print(f'Матрица:\\n{b}')\n",
    "print(f'Определитель:\\n{np.linalg.det(b):.0f}')"
   ]
  },
  {
   "cell_type": "markdown",
   "id": "87d44129",
   "metadata": {},
   "source": [
    "так как $det(A)$ = 0 - матрица вырождена"
   ]
  },
  {
   "cell_type": "markdown",
   "id": "771a28bf",
   "metadata": {},
   "source": [
    "__4.__ Найдите ранг матрицы:\n",
    "\n",
    "   а) $\\begin{pmatrix}\n",
    "1 & 2 & 3\\\\ \n",
    "1 & 1 & 1\\\\ \n",
    "2 & 3 & 4\n",
    "\\end{pmatrix};$\n",
    "\n",
    "   б) $\\begin{pmatrix}\n",
    "0 & 0 & 2 & 1\\\\ \n",
    "0 & 0 & 2 & 2\\\\ \n",
    "0 & 0 & 4 & 3\\\\ \n",
    "2 & 3 & 5 & 6\n",
    "\\end{pmatrix}.$"
   ]
  },
  {
   "cell_type": "markdown",
   "id": "7f9dc975",
   "metadata": {},
   "source": [
    "а)"
   ]
  },
  {
   "cell_type": "code",
   "execution_count": 4,
   "id": "3139e4a3",
   "metadata": {},
   "outputs": [
    {
     "name": "stdout",
     "output_type": "stream",
     "text": [
      "Ранг матрицы: 2\n"
     ]
    }
   ],
   "source": [
    "x = [1, 2, 3]\n",
    "y = [1, 1, 1]\n",
    "z = [2, 3, 4]\n",
    "\n",
    "a = np.array([x, y, z])\n",
    "r = np.linalg.matrix_rank(a)\n",
    "\n",
    "print(f'Ранг матрицы: {r}')"
   ]
  },
  {
   "cell_type": "code",
   "execution_count": 5,
   "id": "e90ceba4",
   "metadata": {},
   "outputs": [
    {
     "name": "stdout",
     "output_type": "stream",
     "text": [
      "Ранг матрицы: 3\n"
     ]
    }
   ],
   "source": [
    "x = [0, 0, 2, 1]\n",
    "y = [0, 0, 2, 2]\n",
    "z = [0, 0, 4, 3]\n",
    "v = [2, 3, 5, 6]\n",
    "\n",
    "a = np.array([x, y, z, v])\n",
    "r = np.linalg.matrix_rank(a)\n",
    "\n",
    "print(f'Ранг матрицы: {r}')"
   ]
  },
  {
   "cell_type": "code",
   "execution_count": null,
   "id": "310c1876",
   "metadata": {},
   "outputs": [],
   "source": []
  }
 ],
 "metadata": {
  "kernelspec": {
   "display_name": "Python 3 (ipykernel)",
   "language": "python",
   "name": "python3"
  },
  "language_info": {
   "codemirror_mode": {
    "name": "ipython",
    "version": 3
   },
   "file_extension": ".py",
   "mimetype": "text/x-python",
   "name": "python",
   "nbconvert_exporter": "python",
   "pygments_lexer": "ipython3",
   "version": "3.9.12"
  }
 },
 "nbformat": 4,
 "nbformat_minor": 5
}
