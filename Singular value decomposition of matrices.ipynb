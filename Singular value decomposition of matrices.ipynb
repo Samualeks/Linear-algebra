{
 "cells": [
  {
   "cell_type": "markdown",
   "id": "6f4f9a71",
   "metadata": {},
   "source": [
    "Сингулярное разложение матриц"
   ]
  },
  {
   "cell_type": "markdown",
   "id": "fc3f0c9b",
   "metadata": {},
   "source": [
    "Практическое задание"
   ]
  },
  {
   "cell_type": "markdown",
   "id": "da98504d",
   "metadata": {},
   "source": [
    "1. Найдите посредством NumPy SVD для матрицы:\n",
    "\n",
    "$$\\begin{pmatrix}\n",
    "1 & 2 & 0\\\\ \n",
    "0 & 0 & 5\\\\ \n",
    "3 & -4 & 2\\\\ \n",
    "1 & 6 & 5\\\\ \n",
    "0 & 1 & 0\n",
    "\\end{pmatrix}.$$\n",
    "\n",
    "\n"
   ]
  },
  {
   "cell_type": "code",
   "execution_count": 21,
   "id": "4c49f4cb",
   "metadata": {},
   "outputs": [
    {
     "name": "stdout",
     "output_type": "stream",
     "text": [
      "Матрица A:\n",
      "[[ 1  2  0]\n",
      " [ 0  0  5]\n",
      " [ 3 -4  2]\n",
      " [ 1  6  5]\n",
      " [ 0  1  0]]\n",
      "Матрица D:\n",
      "[[8.82 0.   0.  ]\n",
      " [0.   6.14 0.  ]\n",
      " [0.   0.   2.53]\n",
      " [0.   0.   0.  ]\n",
      " [0.   0.   0.  ]]\n",
      "Матрица U:\n",
      "[[ 0.17  0.16 -0.53 -0.8  -0.16]\n",
      " [ 0.39 -0.53  0.61 -0.43  0.03]\n",
      " [-0.14 -0.82 -0.52  0.14  0.07]\n",
      " [ 0.89  0.06 -0.25  0.38 -0.06]\n",
      " [ 0.08  0.11 -0.08 -0.11  0.98]]\n",
      "Матрица V:\n",
      "[[ 0.07 -0.37 -0.93]\n",
      " [ 0.72  0.67 -0.21]\n",
      " [ 0.69 -0.65  0.31]]\n",
      "[[ 1.  2.  0.]\n",
      " [ 0. -0.  5.]\n",
      " [ 3. -4.  2.]\n",
      " [ 1.  6.  5.]\n",
      " [-0.  1.  0.]]\n"
     ]
    }
   ],
   "source": [
    "import math\n",
    "import numpy as np\n",
    "np.set_printoptions(precision=2, suppress=True)\n",
    "\n",
    "A = np.array([[1, 2, 0],\n",
    "              [0, 0, 5],\n",
    "              [3, -4, 2],\n",
    "              [1, 6, 5],\n",
    "              [0, 1, 0]])\n",
    "print(f'Матрица A:\\n{A}')\n",
    "\n",
    "U, s, W = np.linalg.svd(A)\n",
    "\n",
    "# Транспонируем матрицу W\n",
    "V = W.T\n",
    "\n",
    "# s - список диагональных элементов, его нужно привести к виду диагональной матрицы для наглядности\n",
    "D = np.zeros_like(A, dtype=float)\n",
    "D[np.diag_indices(min(A.shape))] = s\n",
    "\n",
    "print(f'Матрица D:\\n{D}')\n",
    "print(f'Матрица U:\\n{U}')\n",
    "print(f'Матрица V:\\n{V}')\n",
    "\n",
    "# Проверка\n",
    "print(np.dot(np.dot(U, D), V.T))"
   ]
  },
  {
   "cell_type": "markdown",
   "id": "b51452b7",
   "metadata": {},
   "source": [
    "2."
   ]
  },
  {
   "cell_type": "markdown",
   "id": "053bbb3a",
   "metadata": {},
   "source": [
    "Для матрицы из предыдущего задания найдите:\n",
    "\n",
    "а) евклидову норму;\n",
    "\n",
    "б) норму Фробениуса."
   ]
  },
  {
   "cell_type": "code",
   "execution_count": 22,
   "id": "501ea7e1",
   "metadata": {},
   "outputs": [
    {
     "name": "stdout",
     "output_type": "stream",
     "text": [
      "Сингулярные числа: [8.82 6.14 2.53]\n",
      "Евклидова норма: 8.824868854820442\n",
      "норма Фробениуса: 11.045361017187261\n"
     ]
    }
   ],
   "source": [
    "print(f'Сингулярные числа: {s}')\n",
    "print(f'Евклидова норма: {max(s)}')\n",
    "\n",
    "sum_kv = 0\n",
    "for num in s:\n",
    "    sum_kv += num**2\n",
    "print(f'норма Фробениуса: {math.sqrt(sum_kv)}')"
   ]
  },
  {
   "cell_type": "code",
   "execution_count": null,
   "id": "ddae251e",
   "metadata": {},
   "outputs": [],
   "source": []
  }
 ],
 "metadata": {
  "kernelspec": {
   "display_name": "Python 3 (ipykernel)",
   "language": "python",
   "name": "python3"
  },
  "language_info": {
   "codemirror_mode": {
    "name": "ipython",
    "version": 3
   },
   "file_extension": ".py",
   "mimetype": "text/x-python",
   "name": "python",
   "nbconvert_exporter": "python",
   "pygments_lexer": "ipython3",
   "version": "3.9.12"
  }
 },
 "nbformat": 4,
 "nbformat_minor": 5
}
